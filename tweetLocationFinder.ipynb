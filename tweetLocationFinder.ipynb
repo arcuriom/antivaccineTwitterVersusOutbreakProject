{
 "cells": [
  {
   "cell_type": "markdown",
   "metadata": {},
   "source": [
    "This file contains the code that we used to find the locations of anti-vaccine tweeters. We compiled all of the data retrieved from here in order to make a csv containing over 1000 locations of these tweeters. Note, because of the security measures in the twitter API, were you to run this exact code, you would only get about 200 locations, various list indices and hashtags needed to be changed every fifteen minutes when new calls were possible in order to get more data."
   ]
  },
  {
   "cell_type": "code",
   "execution_count": 1,
   "metadata": {},
   "outputs": [],
   "source": [
    "#Lists of anti-vaccine hashtags to search for twitter users from\n",
    "hashtagList = ['#vaccineskill', '#vaccinescauseautism', '#noforcedvax', '#vaccinesharm', '#mychildmychoice', '#medicalfreedomforall', \n",
    "               '#vaccineinjury', '#vaccinesharmchildren', '#vaccinesareascam', '#herdimmunityisamyth', '#vaccinesarepoison', \n",
    "               '#learntherisk', '#vaccinerisk', '#vaccineinjuryisreal', '#NoOnSB276', '#VaccinesDontWork', '#Repeal1986NCVIA', \n",
    "               '#WhereThereIsRiskThereMustBeChoice', '#parentalchoice', '#stopvaccineviolence', '#vaccinesaregenocide', '#antivax',\n",
    "               '#antivaxx', '#antivaccine', '#medicalrape', '#medicaltyranny', '#ExVaxxer', '#VAERS'] \n",
    "\n",
    "hashtagList1 = ['#vaccinesdamagechildren', \"#vexit\", '#vaccinesareascam', '#VaccineInjuryIsNotRare', 'believemothers', \n",
    "                'VaccineInjuryIsNotRare', '#EndNCVIA86'\n",
    "                '#Fix86', '#RepealNCVIA86', '#NoVaccineMandates', '#LearnTheRisk'] "
   ]
  },
  {
   "cell_type": "code",
   "execution_count": 2,
   "metadata": {},
   "outputs": [],
   "source": [
    "from twitter import Twitter, OAuth\n",
    "\n",
    "#My twitter credentials\n",
    "consumer_key= 'J78J6wdusfWplvxxFtysRdOkE'\n",
    "consumer_secret= 'Su0vWlOg2tu2eVUw633tmB6i45zk6V1HJQTgGfCxa5a87j7StM'\n",
    "access_token= '3449083527-AzKiyC4UW7iQKgffIneqAxk6X8gyfNRHJK0Rse4'\n",
    "access_token_secret= 'Hnzo5gr2SZgUNFjX1DVeCBDUOGSSHPdBDbX82D13hjklE'\n",
    "\n",
    "oauth = OAuth(access_token, access_token_secret, consumer_key, consumer_secret)\n",
    "t = Twitter(auth=oauth)\n",
    "\n",
    "#Makes a list of the users who post using each hashtag - finds their location and id\n",
    "userList = []\n",
    "userLocList = []\n",
    "for hashtag in hashtagList:\n",
    "    #calls the twitter API and pulls a list of tweets with the given hashtag\n",
    "    tweets = t.search.tweets(q= hashtag)\n",
    "\n",
    "    for tweet in tweets['statuses']:\n",
    "    \n",
    "        if tweet['user']['location'] is not None and tweet['user']['location'] is not '':\n",
    "            userLocList.append((tweet['user']['id'], tweet['user']['location']))\n",
    "            \n",
    "        userList.append(tweet['user']['id'])\n",
    "        \n",
    "\n",
    "#Makes a list of anti-vaxx users and their locations in a file\n",
    "file = open('vaccinetweeterLocations.txt', 'w', encoding='utf8')\n",
    " \n",
    "file.write(str(userLocList))\n",
    "\n",
    "file.close()"
   ]
  },
  {
   "cell_type": "code",
   "execution_count": 15,
   "metadata": {},
   "outputs": [],
   "source": [
    "#Performs the same function as the code above but for the second hashtag limit\n",
    "#This is separated to accomodate the api call maximum and allow multiple programs to run at once\n",
    "userList1 = []\n",
    "userLocList1 = []\n",
    "for hashtag in hashtagList1:\n",
    "    tweets = t.search.tweets(q= hashtag)\n",
    "\n",
    "    for tweet in tweets['statuses']:\n",
    "    \n",
    "        if tweet['user']['location'] is not None and tweet['user']['location'] is not '':\n",
    "            userLocList1.append((tweet['user']['id'], tweet['user']['location']))\n",
    "            \n",
    "        userList1.append(tweet['user']['id'])\n",
    "        \n",
    "\n",
    "file = open('vaccinetweeterLocations.txt', 'a', encoding='utf8')\n",
    " \n",
    "file.write(str(userLocList1))\n",
    "\n",
    "file.close()"
   ]
  },
  {
   "cell_type": "code",
   "execution_count": 17,
   "metadata": {},
   "outputs": [],
   "source": [
    "#Makes lists of users and thier locations for each hashtag list\n",
    "users = [i for i in userList]\n",
    "locations = [i[1] for i in userLocList]\n",
    "\n",
    "users1 = [i for i in userList1]\n",
    "locations1 = [i[1] for i in userLocList1]"
   ]
  },
  {
   "cell_type": "code",
   "execution_count": 5,
   "metadata": {},
   "outputs": [
    {
     "name": "stdout",
     "output_type": "stream",
     "text": [
      "Got OAuth token: D4hRhAAAAAABA2iZAAABbsOd3qc\n",
      "Please go here and authorize: https://api.twitter.com/oauth/authorize?oauth_token=D4hRhAAAAAABA2iZAAABbsOd3qc\n",
      "Paste the PIN here: 3028144\n"
     ]
    },
    {
     "ename": "NameError",
     "evalue": "name 'users' is not defined",
     "output_type": "error",
     "traceback": [
      "\u001b[1;31m---------------------------------------------------------------------------\u001b[0m",
      "\u001b[1;31mNameError\u001b[0m                                 Traceback (most recent call last)",
      "\u001b[1;32m<ipython-input-5-a28795d28013>\u001b[0m in \u001b[0;36m<module>\u001b[1;34m\u001b[0m\n\u001b[0;32m     36\u001b[0m \u001b[1;33m\u001b[0m\u001b[0m\n\u001b[0;32m     37\u001b[0m \u001b[0mfollowers\u001b[0m \u001b[1;33m=\u001b[0m \u001b[1;33m[\u001b[0m\u001b[1;33m]\u001b[0m\u001b[1;33m\u001b[0m\u001b[1;33m\u001b[0m\u001b[0m\n\u001b[1;32m---> 38\u001b[1;33m \u001b[1;32mfor\u001b[0m \u001b[0mu\u001b[0m \u001b[1;32min\u001b[0m \u001b[0musers\u001b[0m\u001b[1;33m[\u001b[0m\u001b[1;36m270\u001b[0m\u001b[1;33m:\u001b[0m \u001b[1;36m279\u001b[0m\u001b[1;33m]\u001b[0m\u001b[1;33m:\u001b[0m\u001b[1;33m\u001b[0m\u001b[1;33m\u001b[0m\u001b[0m\n\u001b[0m\u001b[0;32m     39\u001b[0m     \u001b[0mURL\u001b[0m \u001b[1;33m=\u001b[0m \u001b[1;34m'https://api.twitter.com/1.1/followers/list.json?cursor =-1&user_id=%s&skip_status=true'\u001b[0m \u001b[1;33m%\u001b[0m\u001b[1;33m(\u001b[0m\u001b[0mu\u001b[0m\u001b[1;33m)\u001b[0m\u001b[1;33m\u001b[0m\u001b[1;33m\u001b[0m\u001b[0m\n\u001b[0;32m     40\u001b[0m \u001b[1;33m\u001b[0m\u001b[0m\n",
      "\u001b[1;31mNameError\u001b[0m: name 'users' is not defined"
     ]
    }
   ],
   "source": [
    "import os\n",
    "from requests_oauthlib import OAuth1Session\n",
    "\n",
    "\n",
    "#My twitter credentials\n",
    "consumer_key= 'J78J6wdusfWplvxxFtysRdOkE'\n",
    "consumer_secret= 'Su0vWlOg2tu2eVUw633tmB6i45zk6V1HJQTgGfCxa5a87j7StM'\n",
    "\n",
    "params = {\"ids\": \"1067094924124872705\", \"format\": \"detailed\"}\n",
    "\n",
    "# Get request token\n",
    "request_token_url = \"https://api.twitter.com/oauth/request_token\"\n",
    "oauth = OAuth1Session(consumer_key, client_secret=consumer_secret)\n",
    "fetch_response = oauth.fetch_request_token(request_token_url)\n",
    "resource_owner_key = fetch_response.get('oauth_token')\n",
    "resource_owner_secret = fetch_response.get('oauth_token_secret')\n",
    "print(\"Got OAuth token: %s\" % resource_owner_key)\n",
    "\n",
    "# Get authorization\n",
    "base_authorization_url = 'https://api.twitter.com/oauth/authorize'\n",
    "authorization_url = oauth.authorization_url(base_authorization_url)\n",
    "print('Please go here and authorize: %s' % authorization_url)\n",
    "verifier = input('Paste the PIN here: ')\n",
    "\n",
    "# Get the access token\n",
    "access_token_url = 'https://api.twitter.com/oauth/access_token'\n",
    "oauth = OAuth1Session(consumer_key,\n",
    "                     client_secret=consumer_secret,\n",
    "                     resource_owner_key=resource_owner_key,\n",
    "                     resource_owner_secret=resource_owner_secret,\n",
    "                     verifier=verifier)\n",
    "oauth_tokens = oauth.fetch_access_token(access_token_url)\n",
    "\n",
    "access_token = oauth_tokens['oauth_token']\n",
    "access_token_secret = oauth_tokens['oauth_token_secret']\n",
    "\n",
    "#Makes a list of all of teh given users followers\n",
    "followers = []\n",
    "\n",
    "#Calls api for each user in the list created above to get all of their followers\n",
    "for u in users[270: 279]:\n",
    "    URL = 'https://api.twitter.com/1.1/followers/list.json?cursor =-1&user_id=%s&skip_status=true' %(u)\n",
    "\n",
    "    oauth = OAuth1Session(consumer_key,\n",
    "                       client_secret=consumer_secret,\n",
    "                       resource_owner_key=access_token,\n",
    "                       resource_owner_secret=access_token_secret)\n",
    "    response = oauth.get(URL, params = params)\n",
    "\n",
    "    followers.append(response.json())\n",
    "    \n",
    "print(followers)"
   ]
  },
  {
   "cell_type": "code",
   "execution_count": 59,
   "metadata": {},
   "outputs": [
    {
     "name": "stdout",
     "output_type": "stream",
     "text": [
      "[(247680661, 'Oldambt, Nederland'), (322883674, 'Prato, Italy'), (1125593306153484288, 'Sao Paulo, Brazil'), (883566183794049025, '🇬🇧🇪🇺'), (15811646, 'Zuid-Holland'), (231071584, 'ergens in nl'), (1168835275495223296, 'Honolulu, HI'), (949430846087487488, 'United States'), (1111851515646369792, 'Palo Alto'), (351628463, 'Groningen, Nederland'), (776533721008762880, 'At the corner.'), (926137776, 'veendam')]\n"
     ]
    }
   ],
   "source": [
    "#makes a list of the id and location for each follower found above\n",
    "locs = []\n",
    "for u in followers[0]['users']: \n",
    "    if u['location'] != '':\n",
    "        locs.append((u['id'], u['location']))\n",
    "        \n",
    "print(locs)"
   ]
  },
  {
   "cell_type": "code",
   "execution_count": 4,
   "metadata": {},
   "outputs": [
    {
     "name": "stdout",
     "output_type": "stream",
     "text": [
      "Got OAuth token: 8WXUCwAAAAABA2iZAAABbsM2UmI\n",
      "Please go here and authorize: https://api.twitter.com/oauth/authorize?oauth_token=8WXUCwAAAAABA2iZAAABbsM2UmI\n",
      "Paste the PIN here: 1693598\n",
      "[{'ids': [], 'next_cursor': 0, 'next_cursor_str': '0', 'previous_cursor': 0, 'previous_cursor_str': '0', 'total_count': None}, {'ids': [], 'next_cursor': 0, 'next_cursor_str': '0', 'previous_cursor': 0, 'previous_cursor_str': '0', 'total_count': None}, {'ids': [], 'next_cursor': 0, 'next_cursor_str': '0', 'previous_cursor': 0, 'previous_cursor_str': '0', 'total_count': None}, {'ids': [], 'next_cursor': 0, 'next_cursor_str': '0', 'previous_cursor': 0, 'previous_cursor_str': '0', 'total_count': None}, {'ids': [], 'next_cursor': 0, 'next_cursor_str': '0', 'previous_cursor': 0, 'previous_cursor_str': '0', 'total_count': None}, {'ids': ['934719957765632000', '154645514'], 'next_cursor': 0, 'next_cursor_str': '0', 'previous_cursor': 0, 'previous_cursor_str': '0', 'total_count': None}, {'ids': [], 'next_cursor': 0, 'next_cursor_str': '0', 'previous_cursor': 0, 'previous_cursor_str': '0', 'total_count': None}, {'ids': [], 'next_cursor': 0, 'next_cursor_str': '0', 'previous_cursor': 0, 'previous_cursor_str': '0', 'total_count': None}, {'ids': [], 'next_cursor': 0, 'next_cursor_str': '0', 'previous_cursor': 0, 'previous_cursor_str': '0', 'total_count': None}, {'ids': [], 'next_cursor': 0, 'next_cursor_str': '0', 'previous_cursor': 0, 'previous_cursor_str': '0', 'total_count': None}, {'ids': [], 'next_cursor': 0, 'next_cursor_str': '0', 'previous_cursor': 0, 'previous_cursor_str': '0', 'total_count': None}, {'ids': [], 'next_cursor': 0, 'next_cursor_str': '0', 'previous_cursor': 0, 'previous_cursor_str': '0', 'total_count': None}, {'ids': ['2508447960'], 'next_cursor': 0, 'next_cursor_str': '0', 'previous_cursor': 0, 'previous_cursor_str': '0', 'total_count': None}, {'ids': [], 'next_cursor': 0, 'next_cursor_str': '0', 'previous_cursor': 0, 'previous_cursor_str': '0', 'total_count': None}, {'ids': ['16854311'], 'next_cursor': 0, 'next_cursor_str': '0', 'previous_cursor': 0, 'previous_cursor_str': '0', 'total_count': None}]\n"
     ]
    }
   ],
   "source": [
    "import os\n",
    "from requests_oauthlib import OAuth1Session\n",
    "\n",
    "#My twitter credentials\n",
    "consumer_key= 'J78J6wdusfWplvxxFtysRdOkE'\n",
    "consumer_secret= 'Su0vWlOg2tu2eVUw633tmB6i45zk6V1HJQTgGfCxa5a87j7StM'\n",
    "\n",
    "params = {\"ids\": \"1067094924124872705\", \"format\": \"detailed\"}\n",
    "\n",
    "# Get request token\n",
    "request_token_url = \"https://api.twitter.com/oauth/request_token\"\n",
    "oauth = OAuth1Session(consumer_key, client_secret=consumer_secret)\n",
    "fetch_response = oauth.fetch_request_token(request_token_url)\n",
    "resource_owner_key = fetch_response.get('oauth_token')\n",
    "resource_owner_secret = fetch_response.get('oauth_token_secret')\n",
    "print(\"Got OAuth token: %s\" % resource_owner_key)\n",
    "\n",
    "# Get authorization\n",
    "base_authorization_url = 'https://api.twitter.com/oauth/authorize'\n",
    "authorization_url = oauth.authorization_url(base_authorization_url)\n",
    "print('Please go here and authorize: %s' % authorization_url)\n",
    "verifier = input('Paste the PIN here: ')\n",
    "\n",
    "# Get the access token\n",
    "access_token_url = 'https://api.twitter.com/oauth/access_token'\n",
    "oauth = OAuth1Session(consumer_key,\n",
    "                     client_secret=consumer_secret,\n",
    "                     resource_owner_key=resource_owner_key,\n",
    "                     resource_owner_secret=resource_owner_secret,\n",
    "                     verifier=verifier)\n",
    "oauth_tokens = oauth.fetch_access_token(access_token_url)\n",
    "\n",
    "access_token = oauth_tokens['oauth_token']\n",
    "access_token_secret = oauth_tokens['oauth_token_secret']\n",
    "\n",
    "retweeters = []\n",
    "\n",
    "#Calls api for each tweet looked at in the first code block and gets the 'id' of everyone who retweeted them\n",
    "for tweet in tweets['statuses']:\n",
    "    u = tweet['id']\n",
    "    URL = 'https://api.twitter.com/1.1/statuses/retweeters/ids.json?id=%s&count=100&stringify_ids=true' %(u)\n",
    "\n",
    "    oauth = OAuth1Session(consumer_key,\n",
    "                       client_secret=consumer_secret,\n",
    "                       resource_owner_key=access_token,\n",
    "                       resource_owner_secret=access_token_secret)\n",
    "    response = oauth.get(URL, params = params)\n",
    "\n",
    "    retweeters.append(response.json())\n",
    "    \n",
    "print(retweeters)"
   ]
  },
  {
   "cell_type": "code",
   "execution_count": null,
   "metadata": {},
   "outputs": [],
   "source": [
    "#gets the location of the retweeters\n",
    "locs = []\n",
    "for u in range(len(retweeters[0]['ids'])):\n",
    "    for i in \n",
    "    if u['location'] != '':\n",
    "        locs.append(([u], u['location']))\n",
    "        \n",
    "print(locs)"
   ]
  }
 ],
 "metadata": {
  "kernelspec": {
   "display_name": "Python 3",
   "language": "python",
   "name": "python3"
  },
  "language_info": {
   "codemirror_mode": {
    "name": "ipython",
    "version": 3
   },
   "file_extension": ".py",
   "mimetype": "text/x-python",
   "name": "python",
   "nbconvert_exporter": "python",
   "pygments_lexer": "ipython3",
   "version": "3.7.3"
  }
 },
 "nbformat": 4,
 "nbformat_minor": 2
}
